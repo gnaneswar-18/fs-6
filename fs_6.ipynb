{
  "nbformat": 4,
  "nbformat_minor": 0,
  "metadata": {
    "colab": {
      "provenance": [],
      "mount_file_id": "1S7Z7FE7q5ae55p2CTDj3qBq8_zzhpej5",
      "authorship_tag": "ABX9TyPEFHeIGRi4aceS+nTu0UFR",
      "include_colab_link": true
    },
    "kernelspec": {
      "name": "python3",
      "display_name": "Python 3"
    },
    "language_info": {
      "name": "python"
    }
  },
  "cells": [
    {
      "cell_type": "markdown",
      "metadata": {
        "id": "view-in-github",
        "colab_type": "text"
      },
      "source": [
        "<a href=\"https://colab.research.google.com/github/gnaneswar-18/fs-6/blob/main/fs_6.ipynb\" target=\"_parent\"><img src=\"https://colab.research.google.com/assets/colab-badge.svg\" alt=\"Open In Colab\"/></a>"
      ]
    },
    {
      "cell_type": "code",
      "source": [
        "import pandas as pd;\n",
        "from sklearn.preprocessing import LabelEncoder\n",
        "data=pd.read_csv('/content/drive/MyDrive/Copy of melbourne_housing_raw.csv')\n",
        "from sklearn import preprocessing\n",
        "label_encoder = preprocessing.LabelEncoder()\n",
        "for column in data.keys():\n",
        "  if data[column].dtype == 'object':\n",
        "    data[column] = label_encoder.fit_transform(data[column])\n"
      ],
      "metadata": {
        "id": "BMYcumHL_Orh"
      },
      "execution_count": null,
      "outputs": []
    },
    {
      "cell_type": "code",
      "source": [
        "x=data.drop('Propertycount',axis=1)\n",
        "y=data['Propertycount']\n",
        "print(x.shape)\n",
        "print(y.shape)\n",
        "if y.isnull().any():\n",
        "    y = y.dropna()\n",
        "    x = x.loc[y.index]\n",
        "print(x.shape)\n",
        "print(y.shape)"
      ],
      "metadata": {
        "id": "3HvEsRYjaXxs",
        "colab": {
          "base_uri": "https://localhost:8080/"
        },
        "outputId": "9a563405-8b82-4c66-a5c4-44e96afd0a8d"
      },
      "execution_count": null,
      "outputs": [
        {
          "output_type": "stream",
          "name": "stdout",
          "text": [
            "(34857, 19)\n",
            "(34857,)\n",
            "(34854, 19)\n",
            "(34854,)\n"
          ]
        }
      ]
    },
    {
      "cell_type": "code",
      "source": [
        "import pandas as pd\n",
        "import numpy as np\n",
        "from sklearn.model_selection import train_test_split\n",
        "from sklearn.linear_model import LinearRegression\n",
        "from sklearn.metrics import mean_absolute_error\n",
        "\n",
        "x_dropped = x.dropna()\n",
        "x_train, x_test, y_train, y_test = train_test_split(x_dropped, y[x_dropped.index], test_size=0.3, random_state=42)\n",
        "print(x_train.shape)\n",
        "print(x_test.shape)\n",
        "print(y_train.shape)\n",
        "print(y_test.shape)\n",
        "variances = np.var(x_train, axis=0)\n",
        "\n",
        "selected_columns = x_train.columns[variances > 4]\n",
        "\n",
        "x_train_filtered = x_train[selected_columns]\n",
        "x_test_filtered = x_test[selected_columns]\n",
        "\n",
        "\n",
        "print(f\"Total features: {x_train.shape[1]}\")\n",
        "print(f\"Total features selected: {x_train_filtered.shape[1]}\")\n",
        "\n",
        "model=LinearRegression()\n",
        "model.fit(x_train, y_train)\n",
        "y_pred = model.predict(x_test)\n",
        "\n",
        "mae_before = mean_absolute_error(y_test, y_pred)\n",
        "print(f\"MAE before filtering low variance features: {mae_before}\")\n",
        "model.fit(x_train_filtered, y_train)\n",
        "y_pred = model.predict(x_test_filtered)\n",
        "mae_after = mean_absolute_error(y_test, y_pred)\n",
        "print(f\"MAE after filtering low variance features: {mae_after}\")\n"
      ],
      "metadata": {
        "colab": {
          "base_uri": "https://localhost:8080/"
        },
        "id": "4jzX8nK3HPYJ",
        "outputId": "3fdb9fa1-96ab-4e54-e6a4-02ded04c8348"
      },
      "execution_count": null,
      "outputs": [
        {
          "output_type": "stream",
          "name": "stdout",
          "text": [
            "(6220, 19)\n",
            "(2667, 19)\n",
            "(6220,)\n",
            "(2667,)\n",
            "Total features: 19\n",
            "Total features selected: 11\n",
            "MAE before filtering low variance features: 3462.358899620885\n",
            "MAE after filtering low variance features: 3473.768792792215\n"
          ]
        }
      ]
    }
  ]
}